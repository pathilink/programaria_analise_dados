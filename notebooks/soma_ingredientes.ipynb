{
  "nbformat": 4,
  "nbformat_minor": 0,
  "metadata": {
    "colab": {
      "provenance": [],
      "authorship_tag": "ABX9TyPqdwdYKfQv+wu3UJMtuBX6",
      "include_colab_link": true
    },
    "kernelspec": {
      "name": "python3",
      "display_name": "Python 3"
    },
    "language_info": {
      "name": "python"
    }
  },
  "cells": [
    {
      "cell_type": "markdown",
      "metadata": {
        "id": "view-in-github",
        "colab_type": "text"
      },
      "source": [
        "<a href=\"https://colab.research.google.com/github/pathilink/programaria_analise_dados/blob/main/notebooks/soma_ingredientes.ipynb\" target=\"_parent\"><img src=\"https://colab.research.google.com/assets/colab-badge.svg\" alt=\"Open In Colab\"/></a>"
      ]
    },
    {
      "cell_type": "markdown",
      "source": [
        "## Soma ingredientes"
      ],
      "metadata": {
        "id": "Tf9Al9QBEe4J"
      }
    },
    {
      "cell_type": "code",
      "execution_count": 1,
      "metadata": {
        "id": "rsc3uTgREeSW"
      },
      "outputs": [],
      "source": [
        "# importações\n",
        "#import sys"
      ]
    },
    {
      "cell_type": "code",
      "source": [
        "# declaração de variáveis\n",
        "\n",
        "preco_cenoura = 4.5\n",
        "preco_oleo = 12\n",
        "preco_fermento = 15\n",
        "preco_leite = 5\n",
        "preco_acucar = 6\n",
        "preco_ovos = 12"
      ],
      "metadata": {
        "id": "NeU8eW9DFBvC"
      },
      "execution_count": 2,
      "outputs": []
    },
    {
      "cell_type": "code",
      "source": [
        "# função\n",
        "\n",
        "def soma_ingredientes(tem_cenoura, tem_oleo, tem_fermento, tem_leite, tem_acucar, tem_ovos):\n",
        "    total_compra = 0\n",
        "    if tem_cenoura:\n",
        "        total_compra = total_compra + preco_cenoura\n",
        "    if tem_oleo:\n",
        "        total_compra = total_compra + preco_oleo\n",
        "    if tem_fermento:\n",
        "        total_compra = total_compra + preco_fermento\n",
        "    if tem_leite:\n",
        "        total_compra = total_compra + preco_leite\n",
        "    if tem_acucar:\n",
        "        total_compra = total_compra + preco_acucar\n",
        "    if tem_ovos:\n",
        "        total_compra = total_compra + preco_ovos\n",
        "\n",
        "    return total_compra"
      ],
      "metadata": {
        "id": "vvuMztJlFByQ"
      },
      "execution_count": 3,
      "outputs": []
    },
    {
      "cell_type": "code",
      "source": [
        "#if __name__ == \"__main__\":\n",
        "\n",
        "terminal_tem_cenoura = True #sys.argv[1] == \"Sim\"\n",
        "terminal_tem_oleo = True #sys.argv[2] == \"Sim\"\n",
        "terminal_tem_fermento = True #sys.argv[3] == \"Sim\"\n",
        "terminal_tem_leite = True #sys.argv[4] == \"Sim\"\n",
        "terminal_tem_acucar = True #sys.argv[5] == \"Sim\"\n",
        "terminal_tem_ovos = True #sys.argv[6] == \"Sim\"\n",
        "\n",
        "total = soma_ingredientes(\n",
        "  terminal_tem_cenoura,\n",
        "  terminal_tem_oleo,\n",
        "  terminal_tem_fermento,\n",
        "  terminal_tem_leite,\n",
        "  terminal_tem_acucar,\n",
        "  terminal_tem_ovos\n",
        "  )\n",
        "\n",
        "print(\"Total dos ingredientes: \", total)\n",
        ""
      ],
      "metadata": {
        "colab": {
          "base_uri": "https://localhost:8080/"
        },
        "id": "in6VndB8FR8e",
        "outputId": "0f1d6a2d-3a15-4261-f082-e83838c499c7"
      },
      "execution_count": 4,
      "outputs": [
        {
          "output_type": "stream",
          "name": "stdout",
          "text": [
            "Total dos ingredientes:  54.5\n"
          ]
        }
      ]
    },
    {
      "cell_type": "code",
      "source": [],
      "metadata": {
        "id": "NrpJjTmPFSAF"
      },
      "execution_count": null,
      "outputs": []
    }
  ]
}